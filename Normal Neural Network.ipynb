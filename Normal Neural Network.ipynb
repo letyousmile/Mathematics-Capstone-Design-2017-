{
 "cells": [
  {
   "cell_type": "code",
   "execution_count": 1,
   "metadata": {},
   "outputs": [],
   "source": [
    "#행렬 처리, 이미지 파일관리 모듈\n",
    "import numpy \n",
    "import scipy.special \n",
    "import scipy.misc\n",
    "import matplotlib.pyplot\n",
    "%matplotlib inline"
   ]
  },
  {
   "cell_type": "code",
   "execution_count": 2,
   "metadata": {},
   "outputs": [],
   "source": [
    "#png 이미지 파일 부르는 모듈\n",
    "import imageio\n",
    "#다수의 파일을 부르는 모듈\n",
    "import glob"
   ]
  },
  {
   "cell_type": "code",
   "execution_count": 3,
   "metadata": {},
   "outputs": [],
   "source": [
    "#신경망 클래스\n",
    "class neuralNetwork:\n",
    "    \n",
    "    #신경망 초기화\n",
    "    def __init__(self,inputnodes,hiddennodes,outputnodes,learningrate):\n",
    "        #입력,은닉,출력 계층의 노드 개수,학습률 설정\n",
    "        self.inodes=inputnodes\n",
    "        self.hnodes=hiddennodes\n",
    "        self.onodes=outputnodes\n",
    "       \n",
    "        #가중치 행렬 wih와 who\n",
    "        #배열 내 가중치는 w_i_j로 표기, 노드 i에서 다음 계층의 노드 j로 연결됨을 의미\n",
    "        #w11 w21\n",
    "        #w12 w22 등\n",
    "        #wih 는 input에서 hidden으로, ho는 hidden에서 out으로\n",
    "        self.wih = numpy.random.normal(0.0, pow(self.hnodes, -0.5), (self.hnodes, self.inodes))\n",
    "        self.who = numpy.random.normal(0.0, pow(self.onodes, -0.5), (self.onodes, self.hnodes))\n",
    "        \n",
    "        #학습률\n",
    "        self.lr=learningrate\n",
    "        \n",
    "        #활성화 함수로는 시그모이드 함수를 이용 - lambda를 이용해 def를 대신함\n",
    "        self.activation_function = lambda x: scipy.special.expit(x)\n",
    "        \n",
    "    def train(self, inputs_list, targets_list):\n",
    "        #입력 리스트를 2차원 행렬로 변환\n",
    "        inputs = numpy.array(inputs_list, ndmin=2).T\n",
    "        targets = numpy.array(targets_list, ndmin=2).T\n",
    "        \n",
    "        #은닉 계층으로 들어오는 신호 계산\n",
    "        hidden_inputs = numpy.dot(self.wih, inputs)\n",
    "        #은닉 계층에서 나가는 신호를 계산 - 시그모이드 함수에 넣음\n",
    "        hidden_outputs = self.activation_function(hidden_inputs)\n",
    "        \n",
    "        #최종 출력 계층으로 들어오는 신호를 계산\n",
    "        final_inputs = numpy.dot(self.who, hidden_outputs)\n",
    "        #최종 출력 계층에서 나가는 신호를 계산 - 시그모이드 함수에 넣음\n",
    "        final_outputs = self.activation_function(final_inputs)\n",
    "        \n",
    "        #출력 계층의 오차는 (실제 값 - 계산 값)\n",
    "        output_errors = targets - final_outputs\n",
    "        #은닉 계층의 오차는 가중치에 의해 나뉜 출력 계층의 오차들을 재조합해 계산\n",
    "        hidden_errors = numpy.dot(self.who.T,output_errors)\n",
    "        \n",
    "        #은닉 계층과 출력 계층 간의 가중치 업데이트(who)\n",
    "        self.who += self.lr * numpy.dot((output_errors * final_outputs * (1.0-final_outputs)), numpy.transpose(hidden_outputs))\n",
    "        \n",
    "        #입력 계층과 은닉 계층 간의 가중치 업데이트(wih)\n",
    "        self.wih += self.lr * numpy.dot((hidden_errors * hidden_outputs * (1.0-hidden_outputs)), numpy.transpose(inputs))\n",
    "        \n",
    "    def query(self, inputs_list):\n",
    "        #입력 리스트를 2차원 행렬로 변환\n",
    "        inputs = numpy.array(inputs_list, ndmin=2).T\n",
    "        \n",
    "        #은닉 계층으로 들어오는 신호를 계산 - wih와 inputs 행렬을 곱함\n",
    "        hidden_inputs = numpy.dot(self.wih, inputs)\n",
    "        #은닉 계층에서 나가는 신호를 계산 - 시그모이드 함수에 넣음\n",
    "        hidden_outputs = self.activation_function(hidden_inputs)\n",
    "        \n",
    "        #최종 출력 계층으로 들어오는 신호를 계산\n",
    "        final_inputs = numpy.dot(self.who, hidden_outputs)\n",
    "        #최종 출력 계층에서 나가는 신호를 계산 - 시그모이드 함수에 넣음\n",
    "        final_outputs = self.activation_function(final_inputs)\n",
    "        \n",
    "        return final_outputs"
   ]
  },
  {
   "cell_type": "code",
   "execution_count": 4,
   "metadata": {},
   "outputs": [],
   "source": [
    "#새로운 신경망 인스턴스 선언 - 그림 파일의 픽셀수 28*28=784 = 인풋 노드 수\n",
    "#은닉 노드의 수 = 100개\n",
    "#출력 노드의 수 = 10개 (0부터 9까지의 수 판독)\n",
    "input_nodes=784\n",
    "hidden_nodes=200\n",
    "output_nodes=10\n",
    "\n",
    "learning_rate =0.1\n",
    "n=neuralNetwork(input_nodes, hidden_nodes, output_nodes, learning_rate)"
   ]
  },
  {
   "cell_type": "code",
   "execution_count": 5,
   "metadata": {},
   "outputs": [],
   "source": [
    "#학습할 데이터 오픈\n",
    "training_data_file = open(\"mnist_dataset/mnist_train.csv\",'r')\n",
    "training_data_list = training_data_file.readlines()\n",
    "training_data_file.close()"
   ]
  },
  {
   "cell_type": "code",
   "execution_count": 6,
   "metadata": {},
   "outputs": [],
   "source": [
    "# 신경망 학습시키기\n",
    "\n",
    "# 주기(epoch)란 학습 데이터가 학습을 위해 사용되는 횟수를 의미\n",
    "epochs = 5\n",
    "\n",
    "for e in range(epochs):\n",
    "    # 학습 데이터 모음 내의 모든 레코드 탐색\n",
    "    for record in training_data_list:\n",
    "        # 레코드를 쉼표에 의해 분리하고\n",
    "        all_values=record.split(',')\n",
    "        # 입력 값의 범위를 학습에 알맞게 0.01~1로 조정\n",
    "        inputs = (numpy.asfarray(all_values[1:])/255.0 * 0.99) + 0.01\n",
    "        # 결과 값 생성 ( 실제 값인 0.99 외에는 모두 0.01)\n",
    "        targets = numpy.zeros(output_nodes)+0.01\n",
    "        # 첫 레코드 값이 정답인 걸 이용하여 그에 맞는 값은 0.99 대입\n",
    "        targets[int(all_values[0])]=0.99\n",
    "        n.train(inputs,targets)"
   ]
  },
  {
   "cell_type": "code",
   "execution_count": 18,
   "metadata": {},
   "outputs": [
    {
     "name": "stdout",
     "output_type": "stream",
     "text": [
      "my_own_images\\2828_my_own_0.png\n",
      "my_own_images\\2828_my_own_1.png\n",
      "my_own_images\\2828_my_own_2.png\n",
      "my_own_images\\2828_my_own_3.png\n",
      "my_own_images\\2828_my_own_4.png\n",
      "my_own_images\\2828_my_own_5.png\n",
      "my_own_images\\2828_my_own_6.png\n",
      "my_own_images\\2828_my_own_7.png\n",
      "my_own_images\\2828_my_own_8.png\n",
      "my_own_images\\2828_my_own_9.png\n"
     ]
    },
    {
     "name": "stderr",
     "output_type": "stream",
     "text": [
      "C:\\Users\\Iris\\Anaconda3\\lib\\site-packages\\ipykernel_launcher.py:11: DeprecationWarning: `imread` is deprecated!\n",
      "`imread` is deprecated in SciPy 1.0.0, and will be removed in 1.2.0.\n",
      "Use ``imageio.imread`` instead.\n",
      "  # This is added back by InteractiveShellApp.init_path()\n"
     ]
    }
   ],
   "source": [
    "# 손글씨 데이터 세트\n",
    "our_own_dataset = []\n",
    "\n",
    "# png 이미지 파일을 테스트 데이터로 불러온다\n",
    "for image_file_name in glob.glob('my_own_images/2828_my_own_?.png'):\n",
    "    \n",
    "    #파일 이름에 확장자명 바로 앞에 있는 숫자가 답으로 설정\n",
    "    label = int(image_file_name[-5:-4])\n",
    "    print(image_file_name)\n",
    "    #이미지 파일을 array에 넣는다\n",
    "    img_array = scipy.misc.imread(image_file_name,flatten=True)\n",
    "    \n",
    "    #이미지 파일을 28*28 픽셀로 재구성한다\n",
    "    img_data = 255.0 - img_array.reshape(784)\n",
    "    \n",
    "    # 그다음 값을 함수에 넣기 위해 0.01 부터 1.0으로 스케일 한다\n",
    "    img_data = (img_data /255.0 *0.99)+0.01\n",
    "    \n",
    "    #정답을 img_data 파일에 붙힌 후 record에 할당\n",
    "    #record를 학습 데이터 리스트에 붙힌다\n",
    "    record = numpy.append(label,img_data)\n",
    "    our_own_dataset.append(record)"
   ]
  },
  {
   "cell_type": "code",
   "execution_count": 19,
   "metadata": {},
   "outputs": [
    {
     "name": "stdout",
     "output_type": "stream",
     "text": [
      "[[0.01394282]\n",
      " [0.00173037]\n",
      " [0.30844711]\n",
      " [0.52060192]\n",
      " [0.01482706]\n",
      " [0.05521449]\n",
      " [0.04742996]\n",
      " [0.00621991]\n",
      " [0.76295229]\n",
      " [0.20206068]]\n",
      "network says  8\n",
      "no match!\n"
     ]
    },
    {
     "data": {
      "image/png": "[encoded data removed]",
      "text/plain": [
       "<Figure size 432x288 with 1 Axes>"
      ]
     },
     "metadata": {
      "needs_background": "light"
     },
     "output_type": "display_data"
    }
   ],
   "source": [
    "# 직접 쓴 손글씨를 테스트한다\n",
    "\n",
    "# record to test\n",
    "item =3\n",
    "\n",
    "#이미지파일 출력 - 정답을 제외한 값을 28*28로 재구성한 후 출력\n",
    "matplotlib.pyplot.imshow(our_own_dataset[item][1:].reshape(28,28), cmap= 'Greys', interpolation = 'None')\n",
    "\n",
    "#정답은 첫번째 값\n",
    "correct_label = our_own_dataset[item][0]\n",
    "#데이터는 첫번째 값을 제외한 값\n",
    "inputs = our_own_dataset[item][1:]\n",
    "\n",
    "#신경망에게 물어보기\n",
    "outputs = n.query(inputs)\n",
    "print(outputs)\n",
    "\n",
    "#가장 높은 값을 정답으로\n",
    "label = numpy.argmax(outputs)\n",
    "print(\"network says \", label)\n",
    "\n",
    "# 정답 판단\n",
    "if(label==correct_label):\n",
    "    print(\"match!\")\n",
    "else:\n",
    "    print(\"no match!\")"
   ]
  },
  {
   "cell_type": "code",
   "execution_count": 15,
   "metadata": {},
   "outputs": [],
   "source": [
    "#테스트 파일 열기\n",
    "test_data_file=open(\"mnist_dataset/mnist_test.csv\",'r')\n",
    "test_data_list=test_data_file.readlines()\n",
    "test_data_file.close()"
   ]
  },
  {
   "cell_type": "code",
   "execution_count": 16,
   "metadata": {},
   "outputs": [],
   "source": [
    "# 신경망 테스트\n",
    "\n",
    "# 신경망의 성능의 지표가 되는 성적표를 아무 값도 가지지 않도록 초기화\n",
    "scorecard=[]\n",
    "\n",
    "# 테스트 데이터 모음 내의 모든 레코드 탐색\n",
    "for record in test_data_list:\n",
    "    # 레코드를 쉼표에 의해 분리\n",
    "    all_values=record.split(',')\n",
    "    # 정답은 첫번째 값\n",
    "    correct_label=int(all_values[0])\n",
    "    #print(correct_label, \"correct label\")\n",
    "    # 입력 값의 범위와 값 조정\n",
    "    inputs = (numpy.asfarray(all_values[1:])/255.0 * 0.99) +0.01\n",
    "    # 신경망에 질의\n",
    "    outputs = n.query(inputs)\n",
    "    # 가장 높은 값의 인덱스는 레이블의 인덱스와 일치\n",
    "    label = numpy.argmax(outputs)\n",
    "    #print(label, \"network's answer\")\n",
    "    # 정답 또는 오답을 리스트에 추가\n",
    "    if(label==correct_label):\n",
    "        #정답인 경우 성적표에 1을 더함\n",
    "        scorecard.append(1)\n",
    "    else:\n",
    "        # 정답이 아닌 경우 성적표에 0을 더함\n",
    "        scorecard.append(0)"
   ]
  },
  {
   "cell_type": "code",
   "execution_count": 17,
   "metadata": {},
   "outputs": [
    {
     "name": "stdout",
     "output_type": "stream",
     "text": [
      "performance =  0.9736\n"
     ]
    }
   ],
   "source": [
    "#정답의 비율인 성적을 계산해 출력\n",
    "scorecard_array=numpy.asarray(scorecard)\n",
    "print(\"performance = \", scorecard_array.sum()/scorecard_array.size)"
   ]
  },
  {
   "cell_type": "code",
   "execution_count": null,
   "metadata": {
    "collapsed": true
   },
   "outputs": [],
   "source": []
  }
 ],
 "metadata": {
  "kernelspec": {
   "display_name": "Python 3",
   "language": "python",
   "name": "python3"
  },
  "language_info": {
   "codemirror_mode": {
    "name": "ipython",
    "version": 3
   },
   "file_extension": ".py",
   "mimetype": "text/x-python",
   "name": "python",
   "nbconvert_exporter": "python",
   "pygments_lexer": "ipython3",
   "version": "3.6.5"
  }
 },
 "nbformat": 4,
 "nbformat_minor": 2
}
