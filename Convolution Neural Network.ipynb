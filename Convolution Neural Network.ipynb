{
 "cells": [
  {
   "cell_type": "code",
   "execution_count": 1,
   "metadata": {},
   "outputs": [
    {
     "name": "stderr",
     "output_type": "stream",
     "text": [
      "C:\\Users\\Iris\\Anaconda3\\lib\\site-packages\\h5py\\__init__.py:36: FutureWarning: Conversion of the second argument of issubdtype from `float` to `np.floating` is deprecated. In future, it will be treated as `np.float64 == np.dtype(float).type`.\n",
      "  from ._conv import register_converters as _register_converters\n"
     ]
    },
    {
     "name": "stdout",
     "output_type": "stream",
     "text": [
      "WARNING:tensorflow:From <ipython-input-1-05ae2efd741a>:15: read_data_sets (from tensorflow.contrib.learn.python.learn.datasets.mnist) is deprecated and will be removed in a future version.\n",
      "Instructions for updating:\n",
      "Please use alternatives such as official/mnist/dataset.py from tensorflow/models.\n",
      "WARNING:tensorflow:From C:\\Users\\Iris\\Anaconda3\\lib\\site-packages\\tensorflow\\contrib\\learn\\python\\learn\\datasets\\mnist.py:260: maybe_download (from tensorflow.contrib.learn.python.learn.datasets.base) is deprecated and will be removed in a future version.\n",
      "Instructions for updating:\n",
      "Please write your own downloading logic.\n",
      "WARNING:tensorflow:From C:\\Users\\Iris\\Anaconda3\\lib\\site-packages\\tensorflow\\contrib\\learn\\python\\learn\\datasets\\mnist.py:262: extract_images (from tensorflow.contrib.learn.python.learn.datasets.mnist) is deprecated and will be removed in a future version.\n",
      "Instructions for updating:\n",
      "Please use tf.data to implement this functionality.\n",
      "Extracting ./mnist/data/train-images-idx3-ubyte.gz\n",
      "WARNING:tensorflow:From C:\\Users\\Iris\\Anaconda3\\lib\\site-packages\\tensorflow\\contrib\\learn\\python\\learn\\datasets\\mnist.py:267: extract_labels (from tensorflow.contrib.learn.python.learn.datasets.mnist) is deprecated and will be removed in a future version.\n",
      "Instructions for updating:\n",
      "Please use tf.data to implement this functionality.\n",
      "Extracting ./mnist/data/train-labels-idx1-ubyte.gz\n",
      "WARNING:tensorflow:From C:\\Users\\Iris\\Anaconda3\\lib\\site-packages\\tensorflow\\contrib\\learn\\python\\learn\\datasets\\mnist.py:110: dense_to_one_hot (from tensorflow.contrib.learn.python.learn.datasets.mnist) is deprecated and will be removed in a future version.\n",
      "Instructions for updating:\n",
      "Please use tf.one_hot on tensors.\n",
      "Extracting ./mnist/data/t10k-images-idx3-ubyte.gz\n",
      "Extracting ./mnist/data/t10k-labels-idx1-ubyte.gz\n",
      "WARNING:tensorflow:From C:\\Users\\Iris\\Anaconda3\\lib\\site-packages\\tensorflow\\contrib\\learn\\python\\learn\\datasets\\mnist.py:290: DataSet.__init__ (from tensorflow.contrib.learn.python.learn.datasets.mnist) is deprecated and will be removed in a future version.\n",
      "Instructions for updating:\n",
      "Please use alternatives such as official/mnist/dataset.py from tensorflow/models.\n"
     ]
    }
   ],
   "source": [
    "#텐서플로우 모듈\n",
    "import tensorflow as tf\n",
    "#행렬 계산 모듈\n",
    "import numpy as np\n",
    "#이미지 변환 모듈\n",
    "import scipy.misc\n",
    "#이미지 출력 모듈\n",
    "import matplotlib.pyplot as plt\n",
    "#png 이미지 파일 부르는 모듈\n",
    "import imageio\n",
    "#다수의 파일을 부르는 모듈\n",
    "import glob\n",
    "#학습 데이터 입력 모듈\n",
    "from tensorflow.examples.tutorials.mnist import input_data\n",
    "mnist = input_data.read_data_sets(\"./mnist/data/\",one_hot=True)\n",
    "tf.reset_default_graph()"
   ]
  },
  {
   "cell_type": "code",
   "execution_count": 2,
   "metadata": {},
   "outputs": [],
   "source": [
    "#입력 데이터 값 - 데이터 개수(미정),28*28, 색상은 1개\n",
    "X=tf.placeholder(tf.float32, [None,28,28,1])\n",
    "#출력 데이터 값 - 데이터 개수(미정), 출력값 10(숫자의 개수)\n",
    "Y=tf.placeholder(tf.float32, [None,10])\n",
    "#드롭아웃을 위한 변수\n",
    "keep_prob=tf.placeholder(tf.float32)"
   ]
  },
  {
   "cell_type": "code",
   "execution_count": 3,
   "metadata": {},
   "outputs": [],
   "source": [
    "#1차 컨볼루션 계층 형성\n",
    "\n",
    "#첫번째 계층의 가중치\n",
    "#3*3 크기의 커널을 가지고, 입력 커널은 1개, 32개의 출력 커널, 표준편차는 0.01인 랜덤변수로 초기화\n",
    "W1=tf.Variable(tf.random_normal([3,3,1,32],stddev=0.01))\n",
    "#컨볼루션 계층 형성 -  1개의 batch, 오른쪽으로 1칸, 아래로 한칸 움직이는 윈도우에 색은 1개 - 가장자리를 포함하기위해 패딩을 해줌\n",
    "L1=tf.nn.conv2d(X,W1,strides=[1,1,1,1],padding='SAME')\n",
    "#활성화 함수 relu\n",
    "L1=tf.nn.relu(L1)\n",
    "\n",
    "#1차 풀링 계층 형성\n",
    "\n",
    "#1개의 batch, 두칸씩 움직여서 풀링계층 형성, 색은 1개 역시나 패딩 - 두칸씩 움직이므로 14*14 32개\n",
    "L1 = tf.nn.max_pool(L1,ksize=[1,2,2,1],strides=[1,2,2,1],padding='SAME')"
   ]
  },
  {
   "cell_type": "code",
   "execution_count": 4,
   "metadata": {},
   "outputs": [],
   "source": [
    "#2차 컨볼루션 계층 형성\n",
    "\n",
    "#두번째 계층의 가중치\n",
    "#3*3 크기의 커널을 가지고, 입력 커널은 32개, 64개의 출력커널, 표준편차는 0.01인 랜덤변수로 초기화\n",
    "W2=tf.Variable(tf.random_normal([3,3,32,64],stddev=0.01))\n",
    "#위 계층과 같음\n",
    "L2=tf.nn.conv2d(L1,W2,strides=[1,1,1,1], padding='SAME')\n",
    "L2=tf.nn.relu(L2)\n",
    "\n",
    "#2차 풀링 계층 형성\n",
    "\n",
    "#위 계층과 같음 - 7*7 풀링 64개\n",
    "L2=tf.nn.max_pool(L2,ksize=[1,2,2,1],strides=[1,2,2,1],padding='SAME')"
   ]
  },
  {
   "cell_type": "code",
   "execution_count": 5,
   "metadata": {},
   "outputs": [],
   "source": [
    "#만들어진 특징을 통해 10개의 아웃풋을 만들어내는 완전 연결 계층\n",
    "\n",
    "#7*7 개의 풀링 계층 64개 * 256 크기의 행렬로 초기화\n",
    "W3=tf.Variable(tf.random_normal([7*7*64,256],stddev=0.01))\n",
    "#출력계층의 행의 크기가 1*10 이므로 1 * (7*7*64) 크기의 행렬로 L2를 재구성\n",
    "L3=tf.reshape(L2, [-1,7*7*64])\n",
    "#재구성한 L2와 초기화한 W3를 곱해줌 - 1*256 크기의 출력\n",
    "L3=tf.matmul(L3,W3)\n",
    "#활성화함수 relu\n",
    "L3=tf.nn.relu(L3)\n",
    "#오버피팅 방지를 위한 드롭아웃\n",
    "L3=tf.nn.dropout(L3,keep_prob)\n",
    "\n",
    "#1*10의 출력을 내기 위해 W4를 256*10으로 초기화 후 L3*W4=1*10의 행렬 출력\n",
    "W4=tf.Variable(tf.random_normal([256,10],stddev=0.01))\n",
    "model = tf.matmul(L3,W4)"
   ]
  },
  {
   "cell_type": "code",
   "execution_count": 6,
   "metadata": {},
   "outputs": [],
   "source": [
    "#최적화 함수\n",
    "\n",
    "#Y를 목표로 model 손실함수(얼마나 목표값과 차이가 나는지 - 예측값과 실제값 사이의 확률 분포 차이를 계산)\n",
    "#그리고 그 각각의 값들을 softmax 함수로 총 합이 1이 되게 확률화\n",
    "#그 이후 한 행을 전부 더한 후 차원을 하나 줄여 평균을 낸다\n",
    "#이 손실(cost)를 최적화 함수 Adamoptimizer를 학습률 0.001로 최소화 하는 방향으로 최적화\n",
    "cost=tf.reduce_mean(tf.nn.softmax_cross_entropy_with_logits_v2(logits=model, labels=Y))\n",
    "optimizer=tf.train.AdamOptimizer(0.001).minimize(cost)"
   ]
  },
  {
   "cell_type": "code",
   "execution_count": 7,
   "metadata": {},
   "outputs": [
    {
     "name": "stdout",
     "output_type": "stream",
     "text": [
      "INFO:tensorflow:Restoring parameters from ./model\\cnn.ckpt\n"
     ]
    }
   ],
   "source": [
    "#전역변수 초기화\n",
    "init=tf.global_variables_initializer()\n",
    "#세션 생성\n",
    "sess=tf.Session()\n",
    "saver=tf.train.Saver(tf.global_variables())\n",
    "\n",
    "ckpt=tf.train.get_checkpoint_state('./model')\n",
    "#체크포인트 있으면 불러오기\n",
    "if ckpt and tf.train.checkpoint_exists(ckpt.model_checkpoint_path):\n",
    "    saver.restore(sess,ckpt.model_checkpoint_path)\n",
    "#체크포인트 없으면 초기화\n",
    "else:\n",
    "    sess.run(init)\n"
   ]
  },
  {
   "cell_type": "code",
   "execution_count": 16,
   "metadata": {},
   "outputs": [
    {
     "name": "stdout",
     "output_type": "stream",
     "text": [
      "Epoch: 0001 Avg. cost =  0.344\n",
      "Epoch: 0002 Avg. cost =  0.101\n",
      "Epoch: 0003 Avg. cost =  0.071\n",
      "Epoch: 0004 Avg. cost =  0.056\n",
      "Epoch: 0005 Avg. cost =  0.045\n",
      "Epoch: 0006 Avg. cost =  0.037\n",
      "Epoch: 0007 Avg. cost =  0.031\n",
      "Epoch: 0008 Avg. cost =  0.028\n",
      "Epoch: 0009 Avg. cost =  0.023\n",
      "Epoch: 0010 Avg. cost =  0.021\n",
      "Epoch: 0011 Avg. cost =  0.019\n",
      "Epoch: 0012 Avg. cost =  0.016\n",
      "Epoch: 0013 Avg. cost =  0.014\n",
      "Epoch: 0014 Avg. cost =  0.013\n",
      "Epoch: 0015 Avg. cost =  0.013\n",
      "operation end\n"
     ]
    },
    {
     "data": {
      "text/plain": [
       "'./model/cnn.ckpt'"
      ]
     },
     "execution_count": 16,
     "metadata": {},
     "output_type": "execute_result"
    }
   ],
   "source": [
    "#학습\n",
    "\n",
    "#일괄 처리 데이터량 100\n",
    "batch_size=100\n",
    "#일괄 처리 횟수 = 총 데이터 개수 / 일괄 처리 데이터량\n",
    "total_batch=int(mnist.train.num_examples/batch_size)\n",
    "\n",
    "#15번 반복 학습 한다\n",
    "for epoch in range(15):\n",
    "    #총 코스트 초기화\n",
    "    total_cost=0\n",
    "    #일괄 처리 횟수만큼 반복\n",
    "    for i in range(total_batch):\n",
    "        #일괄 처리 크기만큼 데이터 선언 - 배치 데이터를 인풋값에 맞게 재구성\n",
    "        batch_xs, batch_ys = mnist.train.next_batch(batch_size)\n",
    "        batch_xs=batch_xs.reshape(-1,28,28,1)\n",
    "        #드롭아웃 계수 0.8을 주고 최적화\n",
    "        _, cost_val=sess.run([optimizer,cost],\n",
    "                            feed_dict={X:batch_xs,Y:batch_ys, keep_prob:0.8})\n",
    "        #총 손실량 계산\n",
    "        total_cost+=cost_val\n",
    "    print('Epoch:', '%04d' %(epoch+1),\n",
    "         'Avg. cost = ', '{:.3f}'.format(total_cost/total_batch))\n",
    "print('operation end')\n",
    "#saver.save(sess, './model/cnn.ckpt')"
   ]
  },
  {
   "cell_type": "code",
   "execution_count": 17,
   "metadata": {},
   "outputs": [
    {
     "name": "stdout",
     "output_type": "stream",
     "text": [
      "정확도: 0.9908\n"
     ]
    }
   ],
   "source": [
    "#정확도 측정\n",
    "\n",
    "#모델이 말한 값과 원래 값이 같으면 1\n",
    "is_correct = tf.equal(tf.argmax(model,1),tf.argmax(Y,1))\n",
    "#평균을 내어 몇퍼센트인지 확인\n",
    "accuracy=tf.reduce_mean(tf.cast(is_correct,tf.float32))\n",
    "#테스트 데이터값도 인풋값에 맞게 재구성\n",
    "#실제 실험할때는 드롭아웃을 하지 않으므로 1로\n",
    "print('정확도:',sess.run(accuracy, feed_dict={X:mnist.test.images.reshape(-1,28,28,1), Y:mnist.test.labels, keep_prob:1}))"
   ]
  },
  {
   "cell_type": "code",
   "execution_count": 8,
   "metadata": {},
   "outputs": [
    {
     "name": "stderr",
     "output_type": "stream",
     "text": [
      "C:\\Users\\Iris\\Anaconda3\\lib\\site-packages\\ipykernel_launcher.py:7: DeprecationWarning: `imread` is deprecated!\n",
      "`imread` is deprecated in SciPy 1.0.0, and will be removed in 1.2.0.\n",
      "Use ``imageio.imread`` instead.\n",
      "  import sys\n"
     ]
    },
    {
     "data": {
      "image/png": "[encoded data removed]",
      "text/plain": [
       "<Figure size 432x288 with 10 Axes>"
      ]
     },
     "metadata": {},
     "output_type": "display_data"
    }
   ],
   "source": [
    "#직접 그려서 실험\n",
    "\n",
    "our_own_dataset = []\n",
    "for image_file_name in glob.glob('my_own_images/2828_my_own_?.png'):\n",
    "    \n",
    "    #이미지 파일을 array에 넣는다\n",
    "    img_array = scipy.misc.imread(image_file_name,flatten=True)\n",
    "    \n",
    "    #이미지 파일을 28*28 픽셀로 재구성한다\n",
    "    img_data = 255 - img_array.reshape(784)\n",
    "    \n",
    "    #record를 학습 데이터 리스트에 붙힌다\n",
    "    our_own_dataset.append(img_data)\n",
    "mydata=np.array(our_own_dataset)\n",
    "#result = sess.run(tf.argmax(model,1), feed_dict={X: our_own_dataset,keep_prob:1})\n",
    "#이미지 출력과 정답이 맞는지 동시에 출력해서 확인\n",
    "labels = sess.run(model,\n",
    "                 feed_dict={X:mydata.reshape(-1,28,28,1),\n",
    "                           keep_prob:1})\n",
    "#이미지 피규어 클래스 생성\n",
    "fig = plt.figure()\n",
    "\n",
    "for i in range(10):\n",
    "    subplot=fig.add_subplot(2,5,i+1)\n",
    "    \n",
    "    #이미지에 대해서 선명하게 보기위해 x축과 y축 삭제\n",
    "    subplot.set_xticks([])\n",
    "    subplot.set_yticks([])\n",
    "    \n",
    "    #신경망이 내놓은 정답 표기\n",
    "    subplot.set_title('%d' %np.argmax(labels[i]))\n",
    "    #이미지 출력\n",
    "    subplot.imshow(our_own_dataset[i].reshape((28,28)),\n",
    "                  cmap=plt.cm.gray_r)\n",
    "plt.show()"
   ]
  },
  {
   "cell_type": "code",
   "execution_count": null,
   "metadata": {},
   "outputs": [],
   "source": []
  }
 ],
 "metadata": {
  "kernelspec": {
   "display_name": "Python 3",
   "language": "python",
   "name": "python3"
  },
  "language_info": {
   "codemirror_mode": {
    "name": "ipython",
    "version": 3
   },
   "file_extension": ".py",
   "mimetype": "text/x-python",
   "name": "python",
   "nbconvert_exporter": "python",
   "pygments_lexer": "ipython3",
   "version": "3.6.5"
  }
 },
 "nbformat": 4,
 "nbformat_minor": 2
}
